{
 "cells": [
  {
   "cell_type": "code",
   "execution_count": 1,
   "id": "4d9c0ee3",
   "metadata": {},
   "outputs": [],
   "source": [
    "import pandas as pd\n",
    "import matplotlib.pyplot as plt\n",
    "import numpy as np\n",
    "import hvplot"
   ]
  },
  {
   "cell_type": "code",
   "execution_count": 2,
   "id": "6427bf61",
   "metadata": {},
   "outputs": [
    {
     "data": {
      "text/html": [
       "<div>\n",
       "<style scoped>\n",
       "    .dataframe tbody tr th:only-of-type {\n",
       "        vertical-align: middle;\n",
       "    }\n",
       "\n",
       "    .dataframe tbody tr th {\n",
       "        vertical-align: top;\n",
       "    }\n",
       "\n",
       "    .dataframe thead th {\n",
       "        text-align: right;\n",
       "    }\n",
       "</style>\n",
       "<table border=\"1\" class=\"dataframe\">\n",
       "  <thead>\n",
       "    <tr style=\"text-align: right;\">\n",
       "      <th></th>\n",
       "      <th>country</th>\n",
       "      <th>year</th>\n",
       "      <th>sex</th>\n",
       "      <th>age</th>\n",
       "      <th>suicides_no</th>\n",
       "      <th>population</th>\n",
       "      <th>suicides/100k pop</th>\n",
       "      <th>country-year</th>\n",
       "      <th>HDI for year</th>\n",
       "      <th>gdp_for_year ($)</th>\n",
       "      <th>gdp_per_capita ($)</th>\n",
       "      <th>generation</th>\n",
       "    </tr>\n",
       "  </thead>\n",
       "  <tbody>\n",
       "    <tr>\n",
       "      <th>0</th>\n",
       "      <td>Albania</td>\n",
       "      <td>1987</td>\n",
       "      <td>male</td>\n",
       "      <td>15-24 years</td>\n",
       "      <td>21</td>\n",
       "      <td>312900</td>\n",
       "      <td>6.71</td>\n",
       "      <td>Albania1987</td>\n",
       "      <td>NaN</td>\n",
       "      <td>2,156,624,900</td>\n",
       "      <td>796</td>\n",
       "      <td>Generation X</td>\n",
       "    </tr>\n",
       "    <tr>\n",
       "      <th>1</th>\n",
       "      <td>Albania</td>\n",
       "      <td>1987</td>\n",
       "      <td>male</td>\n",
       "      <td>35-54 years</td>\n",
       "      <td>16</td>\n",
       "      <td>308000</td>\n",
       "      <td>5.19</td>\n",
       "      <td>Albania1987</td>\n",
       "      <td>NaN</td>\n",
       "      <td>2,156,624,900</td>\n",
       "      <td>796</td>\n",
       "      <td>Silent</td>\n",
       "    </tr>\n",
       "    <tr>\n",
       "      <th>2</th>\n",
       "      <td>Albania</td>\n",
       "      <td>1987</td>\n",
       "      <td>female</td>\n",
       "      <td>15-24 years</td>\n",
       "      <td>14</td>\n",
       "      <td>289700</td>\n",
       "      <td>4.83</td>\n",
       "      <td>Albania1987</td>\n",
       "      <td>NaN</td>\n",
       "      <td>2,156,624,900</td>\n",
       "      <td>796</td>\n",
       "      <td>Generation X</td>\n",
       "    </tr>\n",
       "    <tr>\n",
       "      <th>3</th>\n",
       "      <td>Albania</td>\n",
       "      <td>1987</td>\n",
       "      <td>male</td>\n",
       "      <td>75+ years</td>\n",
       "      <td>1</td>\n",
       "      <td>21800</td>\n",
       "      <td>4.59</td>\n",
       "      <td>Albania1987</td>\n",
       "      <td>NaN</td>\n",
       "      <td>2,156,624,900</td>\n",
       "      <td>796</td>\n",
       "      <td>G.I. Generation</td>\n",
       "    </tr>\n",
       "    <tr>\n",
       "      <th>4</th>\n",
       "      <td>Albania</td>\n",
       "      <td>1987</td>\n",
       "      <td>male</td>\n",
       "      <td>25-34 years</td>\n",
       "      <td>9</td>\n",
       "      <td>274300</td>\n",
       "      <td>3.28</td>\n",
       "      <td>Albania1987</td>\n",
       "      <td>NaN</td>\n",
       "      <td>2,156,624,900</td>\n",
       "      <td>796</td>\n",
       "      <td>Boomers</td>\n",
       "    </tr>\n",
       "    <tr>\n",
       "      <th>...</th>\n",
       "      <td>...</td>\n",
       "      <td>...</td>\n",
       "      <td>...</td>\n",
       "      <td>...</td>\n",
       "      <td>...</td>\n",
       "      <td>...</td>\n",
       "      <td>...</td>\n",
       "      <td>...</td>\n",
       "      <td>...</td>\n",
       "      <td>...</td>\n",
       "      <td>...</td>\n",
       "      <td>...</td>\n",
       "    </tr>\n",
       "    <tr>\n",
       "      <th>27815</th>\n",
       "      <td>Uzbekistan</td>\n",
       "      <td>2014</td>\n",
       "      <td>female</td>\n",
       "      <td>35-54 years</td>\n",
       "      <td>107</td>\n",
       "      <td>3620833</td>\n",
       "      <td>2.96</td>\n",
       "      <td>Uzbekistan2014</td>\n",
       "      <td>0.675</td>\n",
       "      <td>63,067,077,179</td>\n",
       "      <td>2309</td>\n",
       "      <td>Generation X</td>\n",
       "    </tr>\n",
       "    <tr>\n",
       "      <th>27816</th>\n",
       "      <td>Uzbekistan</td>\n",
       "      <td>2014</td>\n",
       "      <td>female</td>\n",
       "      <td>75+ years</td>\n",
       "      <td>9</td>\n",
       "      <td>348465</td>\n",
       "      <td>2.58</td>\n",
       "      <td>Uzbekistan2014</td>\n",
       "      <td>0.675</td>\n",
       "      <td>63,067,077,179</td>\n",
       "      <td>2309</td>\n",
       "      <td>Silent</td>\n",
       "    </tr>\n",
       "    <tr>\n",
       "      <th>27817</th>\n",
       "      <td>Uzbekistan</td>\n",
       "      <td>2014</td>\n",
       "      <td>male</td>\n",
       "      <td>5-14 years</td>\n",
       "      <td>60</td>\n",
       "      <td>2762158</td>\n",
       "      <td>2.17</td>\n",
       "      <td>Uzbekistan2014</td>\n",
       "      <td>0.675</td>\n",
       "      <td>63,067,077,179</td>\n",
       "      <td>2309</td>\n",
       "      <td>Generation Z</td>\n",
       "    </tr>\n",
       "    <tr>\n",
       "      <th>27818</th>\n",
       "      <td>Uzbekistan</td>\n",
       "      <td>2014</td>\n",
       "      <td>female</td>\n",
       "      <td>5-14 years</td>\n",
       "      <td>44</td>\n",
       "      <td>2631600</td>\n",
       "      <td>1.67</td>\n",
       "      <td>Uzbekistan2014</td>\n",
       "      <td>0.675</td>\n",
       "      <td>63,067,077,179</td>\n",
       "      <td>2309</td>\n",
       "      <td>Generation Z</td>\n",
       "    </tr>\n",
       "    <tr>\n",
       "      <th>27819</th>\n",
       "      <td>Uzbekistan</td>\n",
       "      <td>2014</td>\n",
       "      <td>female</td>\n",
       "      <td>55-74 years</td>\n",
       "      <td>21</td>\n",
       "      <td>1438935</td>\n",
       "      <td>1.46</td>\n",
       "      <td>Uzbekistan2014</td>\n",
       "      <td>0.675</td>\n",
       "      <td>63,067,077,179</td>\n",
       "      <td>2309</td>\n",
       "      <td>Boomers</td>\n",
       "    </tr>\n",
       "  </tbody>\n",
       "</table>\n",
       "<p>27820 rows × 12 columns</p>\n",
       "</div>"
      ],
      "text/plain": [
       "          country  year     sex          age  suicides_no  population  \\\n",
       "0         Albania  1987    male  15-24 years           21      312900   \n",
       "1         Albania  1987    male  35-54 years           16      308000   \n",
       "2         Albania  1987  female  15-24 years           14      289700   \n",
       "3         Albania  1987    male    75+ years            1       21800   \n",
       "4         Albania  1987    male  25-34 years            9      274300   \n",
       "...           ...   ...     ...          ...          ...         ...   \n",
       "27815  Uzbekistan  2014  female  35-54 years          107     3620833   \n",
       "27816  Uzbekistan  2014  female    75+ years            9      348465   \n",
       "27817  Uzbekistan  2014    male   5-14 years           60     2762158   \n",
       "27818  Uzbekistan  2014  female   5-14 years           44     2631600   \n",
       "27819  Uzbekistan  2014  female  55-74 years           21     1438935   \n",
       "\n",
       "       suicides/100k pop    country-year  HDI for year  gdp_for_year ($)   \\\n",
       "0                   6.71     Albania1987           NaN      2,156,624,900   \n",
       "1                   5.19     Albania1987           NaN      2,156,624,900   \n",
       "2                   4.83     Albania1987           NaN      2,156,624,900   \n",
       "3                   4.59     Albania1987           NaN      2,156,624,900   \n",
       "4                   3.28     Albania1987           NaN      2,156,624,900   \n",
       "...                  ...             ...           ...                ...   \n",
       "27815               2.96  Uzbekistan2014         0.675     63,067,077,179   \n",
       "27816               2.58  Uzbekistan2014         0.675     63,067,077,179   \n",
       "27817               2.17  Uzbekistan2014         0.675     63,067,077,179   \n",
       "27818               1.67  Uzbekistan2014         0.675     63,067,077,179   \n",
       "27819               1.46  Uzbekistan2014         0.675     63,067,077,179   \n",
       "\n",
       "       gdp_per_capita ($)       generation  \n",
       "0                     796     Generation X  \n",
       "1                     796           Silent  \n",
       "2                     796     Generation X  \n",
       "3                     796  G.I. Generation  \n",
       "4                     796          Boomers  \n",
       "...                   ...              ...  \n",
       "27815                2309     Generation X  \n",
       "27816                2309           Silent  \n",
       "27817                2309     Generation Z  \n",
       "27818                2309     Generation Z  \n",
       "27819                2309          Boomers  \n",
       "\n",
       "[27820 rows x 12 columns]"
      ]
     },
     "execution_count": 2,
     "metadata": {},
     "output_type": "execute_result"
    }
   ],
   "source": [
    "suic_rates = pd.read_csv(\"master.csv\")\n",
    "suic_rates"
   ]
  },
  {
   "cell_type": "markdown",
   "id": "a1ce6074",
   "metadata": {},
   "source": [
    "## Knowledge Discovery Process"
   ]
  },
  {
   "cell_type": "markdown",
   "id": "0c4628a0",
   "metadata": {},
   "source": [
    "We start by looking at the data to study its distribution, find outliers, show rankings for relevant metrics, and analyze correlation between variables. The first step is to visualize the `suicides/100k pop` column and look for outliers. We chose to look at the `suicides/100k pop` column because this is a more robust measure than the `suicides_no` column, given that we can expect a country with more individuals to have higher suicide rates."
   ]
  },
  {
   "cell_type": "markdown",
   "id": "7842a65d",
   "metadata": {},
   "source": [
    "First of all, we need to acknowledge that the objects are partitioned in different classes (country, year, sex, and age forms a partition of the data). To make sure we are not dealing with some sort of Simpson's paradox, let's look at each part individually.\n",
    "\n",
    "We would like to look at the following joint distributions, searching for anomalies and outliers:\n",
    "- Suicide rates per year, overall\n",
    "- Suicide rates per age ranges, overall\n",
    "- Suicide rates per sex, overall\n",
    "- Suicide rates per year, per country\n",
    "- Suicide rates per year, per sex\n",
    "- Suicide rates per country, per sex\n",
    "- Suicide rates per age, per country\n",
    "- Suicide rates per age, per sex"
   ]
  },
  {
   "cell_type": "code",
   "execution_count": 3,
   "id": "9a468918",
   "metadata": {},
   "outputs": [],
   "source": [
    "suic_rates_year_overall = suic_rates.groupby([\"year\"], as_index = False)[\"suicides/100k pop\"].sum()\n",
    "suic_rates_age_overall = suic_rates.groupby([\"age\"], as_index = False)[\"suicides/100k pop\"].sum()\n",
    "suic_rates_sex_overall = suic_rates.groupby([\"sex\"], as_index = False)[\"suicides/100k pop\"].sum()\n",
    "suic_rates_year_country = suic_rates.groupby([\"year\", \"country\"], as_index = False)[\"suicides/100k pop\"].sum()\n",
    "suic_rates_year_sex = suic_rates.groupby([\"year\", \"sex\"], as_index = False)[\"suicides/100k pop\"].sum()\n",
    "suic_rates_country_sex = suic_rates.groupby([\"country\", \"sex\"], as_index = False)[\"suicides/100k pop\"].sum()\n",
    "suic_rates_age_country = suic_rates.groupby([\"country\", \"age\"], as_index = False)[\"suicides/100k pop\"].sum()\n",
    "suic_rates_age_sex = suic_rates.groupby([\"age\", \"sex\"], as_index = False)[\"suicides/100k pop\"].sum()"
   ]
  },
  {
   "cell_type": "code",
   "execution_count": 4,
   "id": "5f00ea9b",
   "metadata": {},
   "outputs": [
    {
     "data": {
      "text/plain": [
       "Text(0.5, 1.0, 'Suicide Rates per age, sex')"
      ]
     },
     "execution_count": 4,
     "metadata": {},
     "output_type": "execute_result"
    },
    {
     "data": {
      "image/png": "[encoded data removed]",
      "text/plain": [
       "<Figure size 1000x1500 with 8 Axes>"
      ]
     },
     "metadata": {},
     "output_type": "display_data"
    }
   ],
   "source": [
    "fig, axs = plt.subplots(4, 2)\n",
    "fig.set_figheight(15)\n",
    "fig.set_figwidth(10)\n",
    "\n",
    "axs[0, 0].boxplot(suic_rates_year_overall[\"suicides/100k pop\"])\n",
    "axs[0, 0].set_title('Suicide Rates per year')\n",
    "\n",
    "axs[0, 1].boxplot(suic_rates_age_overall[\"suicides/100k pop\"])\n",
    "axs[0, 1].set_title('Suicide Rates per age')\n",
    "\n",
    "axs[1, 0].boxplot(suic_rates_sex_overall[\"suicides/100k pop\"])\n",
    "axs[1, 0].set_title('Suicide Rates per sex')\n",
    "\n",
    "axs[1, 1].boxplot(suic_rates_country_sex[\"suicides/100k pop\"])\n",
    "axs[1, 1].set_title('Suicide Rates per country, sex')\n",
    "\n",
    "axs[2, 0].boxplot(suic_rates_year_country[\"suicides/100k pop\"])\n",
    "axs[2, 0].set_title('Suicide Rates per year, country')\n",
    "\n",
    "axs[2, 1].boxplot(suic_rates_year_sex[\"suicides/100k pop\"])\n",
    "axs[2, 1].set_title('Suicide Rates per year, sex')\n",
    "\n",
    "\n",
    "axs[3, 0].boxplot(suic_rates_age_country[\"suicides/100k pop\"])\n",
    "axs[3, 0].set_title('Suicide Rates per age, country')\n",
    "\n",
    "axs[3, 1].boxplot(suic_rates_age_sex[\"suicides/100k pop\"])\n",
    "axs[3, 1].set_title('Suicide Rates per age, sex')"
   ]
  },
  {
   "cell_type": "markdown",
   "id": "d4f6380e",
   "metadata": {},
   "source": [
    "Particularly, for suicide rates per year and country, for suicide rates per country and sex, and for suicide rates per age and country, we notice quite a few outliers. Note that an outlier for these combinations indicates that the suicide rates for **a combination of `year` and `country`** is an anomaly, the suicide rates for **a combination of `country` and `sex`** is an anomaly, and the **combination of `age` and `country`** is an anomaly, respectively.\n",
    "\n",
    "With that said, let's see which objects in our data correspond to those points."
   ]
  },
  {
   "cell_type": "code",
   "execution_count": 5,
   "id": "ebfd8be9",
   "metadata": {},
   "outputs": [],
   "source": [
    "outliers_year_country = suic_rates_year_country.sort_values(by=\"suicides/100k pop\", ascending=False)[:10]\n",
    "outliers_country_sex = suic_rates_country_sex.sort_values(by=\"suicides/100k pop\", ascending=False)[:10]\n",
    "outliers_age_country = suic_rates_age_country.sort_values(by=\"suicides/100k pop\", ascending=False)[:10]\n",
    "\n",
    "outliers_year_country[\"year-country\"] = outliers_year_country.apply(lambda row: str(row.year) + \"-\" + row.country, axis=1)\n",
    "outliers_country_sex[\"country-sex\"] = outliers_country_sex.apply(lambda row: row.country + \"-\" + row.sex, axis=1)\n",
    "outliers_age_country[\"age-country\"] = outliers_age_country.apply(lambda row: row.country + \"-\" + row.age, axis=1)"
   ]
  },
  {
   "cell_type": "code",
   "execution_count": null,
   "id": "82c405bc",
   "metadata": {},
   "outputs": [],
   "source": [
    "fig, ax = plt.subplots(3, 1)\n",
    "\n",
    "norm = plt.Normalize(\n",
    "    outliers_year_country[\"suicides/100k pop\"].values.min(),\n",
    "    outliers_year_country[\"suicides/100k pop\"].values.max()\n",
    ")\n",
    "colors = plt.cm.Oranges(norm(outliers_year_country[\"suicides/100k pop\"]))\n",
    "ax[0].barh(outliers_year_country[\"year-country\"], outliers_year_country[\"suicides/100k pop\"], color=colors)\n",
    "ax[0].set_title(\"Outliers for suicide rates grouped by year and country\")\n",
    "ax[0].invert_yaxis()\n",
    "\n",
    "norm = plt.Normalize(\n",
    "    outliers_country_sex[\"suicides/100k pop\"].values.min(),\n",
    "    outliers_country_sex[\"suicides/100k pop\"].values.max()\n",
    ")\n",
    "colors = plt.cm.Oranges(norm(outliers_country_sex[\"suicides/100k pop\"]))\n",
    "ax[1].barh(outliers_country_sex[\"country-sex\"], outliers_country_sex[\"suicides/100k pop\"], color=colors)\n",
    "ax[1].set_title(\"Outliers for suicide rates grouped by country and sex\")\n",
    "ax[1].invert_yaxis()\n",
    "\n",
    "norm = plt.Normalize(\n",
    "    outliers_age_country[\"suicides/100k pop\"].values.min(),\n",
    "    outliers_age_country[\"suicides/100k pop\"].values.max()\n",
    ")\n",
    "colors = plt.cm.Oranges(norm(outliers_age_country[\"suicides/100k pop\"]))\n",
    "ax[2].barh(outliers_age_country[\"age-country\"], outliers_age_country[\"suicides/100k pop\"], color=colors)\n",
    "ax[2].set_title(\"Outliers for suicide rates grouped by age and country\")\n",
    "ax[2].invert_yaxis()\n",
    "\n",
    " \n",
    "\n",
    "fig.set_figheight(13)"
   ]
  },
  {
   "cell_type": "markdown",
   "id": "3ce861b1",
   "metadata": {},
   "source": [
    "Surprisingly, we see that the top 10 suicide rates grouped by country and sex do not show a specific tendency for country, but they are all males. Let's explore the relation between sex and suicide rates. Furthermore, we can see the highest rates for the country and age combination correspond to individuals with more than 75 years."
   ]
  },
  {
   "cell_type": "markdown",
   "id": "92aff5db",
   "metadata": {},
   "source": [
    "Now that we have highlighted the distributions of interest, and studied the anomalies, we will dive deeper into how the variables are correlated. Establishing a relation between the available variables and the suicide rate is important in order to find vulnerable countries and individuals and stablish policies that will help them. We start by studying the correlation between sex and suicide rates."
   ]
  },
  {
   "cell_type": "code",
   "execution_count": null,
   "id": "e7f343ad",
   "metadata": {},
   "outputs": [],
   "source": [
    "suic_rates_year_sex_female = suic_rates_year_sex.loc[suic_rates_year_sex[\"sex\"] == \"female\"]\n",
    "suic_rates_year_sex_male = suic_rates_year_sex.loc[suic_rates_year_sex[\"sex\"] == \"male\"]\n",
    "\n",
    "plt.plot(\n",
    "    suic_rates_year_sex_female[\"year\"],\n",
    "    suic_rates_year_sex_female[\"suicides/100k pop\"],\n",
    "    marker='o',\n",
    "    label=\"Female\"\n",
    ")\n",
    "plt.plot(\n",
    "    suic_rates_year_sex_male[\"year\"],\n",
    "    suic_rates_year_sex_male[\"suicides/100k pop\"],\n",
    "    marker='o',\n",
    "    label=\"Male\"\n",
    ")\n",
    "\n",
    "for year in suic_rates_year_sex_female[\"year\"]:\n",
    "    plt.axvline(x=year, linestyle=\"dotted\", color=\"grey\")\n",
    "    \n",
    "plt.title(\"Number of suicide cases overall, per sex, throughout the years\")\n",
    "plt.legend()"
   ]
  },
  {
   "cell_type": "markdown",
   "id": "80a97541",
   "metadata": {},
   "source": [
    "Here we can notice a strong tendency showing us that individuals of the sex `male` are more likely to commit suicide, if we look at the whole world, throughout the years. Again, let's dive deeper into this analysis in order to avoid common mistakes such as the Simpson's Paradox.\n",
    "\n",
    "We proceed by analyzing suicide cases per sex and age, in the whole world. For this analysis, we will use the mean number of cases, considering `suicides_no` instead of `suicides/100k pop`. To do that, we calculate the suicide rates' mean for each sex and age range, for all countries, across all years, and compare the resulting values for each sex using a grouped bar plot."
   ]
  },
  {
   "cell_type": "code",
   "execution_count": null,
   "id": "18cbb0ee",
   "metadata": {},
   "outputs": [],
   "source": [
    "# Pre-processing to sort values by age range\n",
    "suic_numbers_age_sex_mean = suic_rates.groupby([\"age\", \"sex\"], as_index = False)[\"suicides_no\"].mean()\n",
    "suic_numbers_age_sex_mean[\"age_preffixed\"] = suic_numbers_age_sex_mean.apply(lambda row: \"05-14 years\" if row[0] == \"5-14 years\" else row[0], axis=1)\n",
    "\n",
    "fig, axs = plt.subplots()\n",
    "fig.set_figwidth(10)\n",
    "\n",
    "x = np.arange(len(suic_numbers_age_sex_mean[\"age_preffixed\"].unique()))\n",
    "width = 0.4\n",
    "plt.bar(\n",
    "    x-0.2,\n",
    "    suic_numbers_age_sex_mean.sort_values(by=\"age_preffixed\").loc[suic_numbers_age_sex_mean[\"sex\"] == \"female\"][\"suicides_no\"],\n",
    "    width,\n",
    "    color=\"blue\"\n",
    ")\n",
    "plt.bar(\n",
    "    x+0.2,\n",
    "    suic_numbers_age_sex_mean.sort_values(by=\"age_preffixed\").loc[suic_numbers_age_sex_mean[\"sex\"] == \"male\"][\"suicides_no\"],\n",
    "    width,\n",
    "    color=\"orange\"\n",
    ")\n",
    "\n",
    "plt.xticks(x, suic_numbers_age_sex_mean.sort_values(by=\"age_preffixed\")[\"age_preffixed\"].unique())\n",
    "plt.xlabel(\"Age ranges\")\n",
    "plt.ylabel(\"Suicide rates\")\n",
    "plt.legend([\"Female\", \"Male\"])"
   ]
  },
  {
   "cell_type": "markdown",
   "id": "7719740b",
   "metadata": {},
   "source": [
    "With this side-by-side comparison, we can see that of the `male` sex are more likely to commit suicide, for all age ranges. Next, we will perform a similar analyzes, but taking into account how those mean values changed throughout the years."
   ]
  },
  {
   "cell_type": "code",
   "execution_count": null,
   "id": "67ee927d",
   "metadata": {},
   "outputs": [],
   "source": [
    "suic_numbers_age_sex_mean_by_year = suic_rates.groupby([\"age\", \"sex\", \"year\"], as_index = False)[\"suicides_no\"].mean()\n",
    "suic_numbers_age_sex_mean_by_year[\"label\"] = suic_numbers_age_sex_mean_by_year.apply(lambda row: row[0] + \" \" + str(row[1]), axis=1)\n",
    "\n",
    "plt.figure(figsize=(10,6))\n",
    "for label in suic_numbers_age_sex_mean_by_year[\"label\"].unique():\n",
    "    suic_numbers_age_sex_mean_by_year_class = suic_numbers_age_sex_mean_by_year.loc[suic_numbers_age_sex_mean_by_year[\"label\"] == label]\n",
    "    plt.plot(\n",
    "        suic_numbers_age_sex_mean_by_year_class[\"year\"],\n",
    "        suic_numbers_age_sex_mean_by_year_class[\"suicides_no\"],\n",
    "        marker='o',\n",
    "        label=label\n",
    "    )\n",
    "    \n",
    "for year in suic_numbers_age_sex_mean_by_year[\"year\"]:\n",
    "    plt.axvline(x=year, linestyle=\"dotted\", color=\"grey\")\n",
    "\n",
    "plt.title(\"Mean number of suicide cases per sex and age range, throughout the years\")\n",
    "plt.legend()"
   ]
  },
  {
   "cell_type": "markdown",
   "id": "221c72d3",
   "metadata": {},
   "source": [
    "In the graph above we can see that across all years, individuals of the `male` can be expected to have higher suicide cases for most age ranges. In fact, the top 4 dominant mean number of suicide cases all correspond to individuals of the `male` sex."
   ]
  },
  {
   "cell_type": "markdown",
   "id": "76f23aec",
   "metadata": {},
   "source": [
    "Now that we have taken a look at how the age range and the sex jointly relate to the number of suicide cases, let's take a look at how the age ranges, by themselves, are related to suicide numbers and rates. We start by asking ourselves which are the age ranges with higher suicide numbers across all years and countries."
   ]
  },
  {
   "cell_type": "code",
   "execution_count": null,
   "id": "3741efbc",
   "metadata": {},
   "outputs": [],
   "source": [
    "suic_numbers_age_mean = suic_rates.groupby([\"age\"], as_index = False)[\"suicides_no\"].mean()\n",
    "suic_numbers_age_mean = suic_numbers_age_mean.sort_values(by=\"suicides_no\", ascending=False)\n",
    "\n",
    "fig, ax = plt.subplots()\n",
    "\n",
    "norm = plt.Normalize(\n",
    "    suic_numbers_age_mean[\"suicides_no\"].values.min(),\n",
    "    suic_numbers_age_mean[\"suicides_no\"].values.max()\n",
    ")\n",
    "colors = plt.cm.Oranges(norm(suic_numbers_age_mean[\"suicides_no\"]))\n",
    "ax.barh(suic_numbers_age_mean[\"age\"], suic_numbers_age_mean[\"suicides_no\"], color=colors)\n",
    "ax.set_title(\"Age ranges with higher suicide numbers' mean across all years and countries\")\n",
    "ax.invert_yaxis()"
   ]
  },
  {
   "cell_type": "markdown",
   "id": "8ad3309c",
   "metadata": {},
   "source": [
    "In order to have a more detailed comprehension of the numbers shown above, it would also be interesting to understand how each age range's suicide numbers behave throughout the years. "
   ]
  },
  {
   "cell_type": "code",
   "execution_count": null,
   "id": "4bd761b8",
   "metadata": {},
   "outputs": [],
   "source": [
    "suic_numbers_age_mean_by_year = suic_rates.groupby([\"age\", \"year\"], as_index = False)[\"suicides_no\"].mean()\n",
    "# suic_numbers_age_mean_by_year[\"label\"] = suic_numbers_age_mean_by_year.apply(lambda row: row[0] + \" \" + str(row[1]), axis=1)\n",
    "\n",
    "plt.figure(figsize=(10,6))\n",
    "for age in suic_numbers_age_mean_by_year[\"age\"].unique():\n",
    "    suic_numbers_age_mean_by_year_class = suic_numbers_age_mean_by_year.loc[suic_numbers_age_mean_by_year[\"age\"] == age]\n",
    "    plt.plot(\n",
    "        suic_numbers_age_mean_by_year_class[\"year\"],\n",
    "        suic_numbers_age_mean_by_year_class[\"suicides_no\"],\n",
    "        marker='o',\n",
    "        label=age\n",
    "    )\n",
    "    \n",
    "for year in suic_numbers_age_mean_by_year[\"year\"]:\n",
    "    plt.axvline(x=year, linestyle=\"dotted\", color=\"grey\")\n",
    "\n",
    "plt.title(\"Mean number of suicide cases per age range, throughout the years\")\n",
    "plt.legend()"
   ]
  },
  {
   "cell_type": "markdown",
   "id": "1b141b01",
   "metadata": {},
   "source": [
    "The graph shows us that individuals with age between 35 and 54 years are more likely to commit suicide, across all countries, and throughout all the years present in the data. However, **it is important to notice that the two biggest classes, namely 35-54 years and 55-74 years, represent an age range greater than the other classes**, thus, we can expect them to naturally represent the biggest numbers of suicide cases. "
   ]
  },
  {
   "cell_type": "markdown",
   "id": "d761d98d",
   "metadata": {},
   "source": [
    "### TO-DO: Line plot with GDP per capita and suicide rates for each pair country-year?"
   ]
  },
  {
   "cell_type": "markdown",
   "id": "a46090c0",
   "metadata": {},
   "source": [
    "Up to this point we have explored our data and found out some really interesting points, including:\n",
    "- Individuals of the sex `male` are more likely to commit suicides. This is holds for almost all countries, years, and age ranges on the data.\n",
    "- The bulk of suicide cases lies within the age ranges from 25 to 54 years. However, using this data we can not see any particular age range in between that contains a significantly greater number of suicides than the others.\n",
    "- When we extend our analysis to consider the joint distribution of suicide rate per year and country, we notice that the outliers correspond to poor countries in troublesome years.\n",
    "- When we extend our analysis to consider the joint distribution of suicide rate per country and sex, we notice that the greatest values correspond to individuals of the `male` sex.\n",
    "- When we extend our analysis to consider the joint distribution of suicide rate per country and age, surprisingly we see that the greatest suicide rates come from individuals with more than 75 years, a tendency which we do not see when looking only at the ages. "
   ]
  },
  {
   "cell_type": "markdown",
   "id": "10604db7",
   "metadata": {},
   "source": [
    "Now let's extend our analysis to include a country's GDP and GDP per capita. We start by analysing the GDP per capita growth for each country throughout the years. In sequence, it would be particularly interesting to look at the outliers of suicide rates for the joint `year` and `country` distribution, namely Lithuania between 1990 and 200, Hundary in the years 1991 and 1992, and Russian Federation in the year 1994 (see table below). "
   ]
  },
  {
   "cell_type": "code",
   "execution_count": null,
   "id": "52013d31",
   "metadata": {},
   "outputs": [],
   "source": [
    "outliers_year_country"
   ]
  },
  {
   "cell_type": "code",
   "execution_count": null,
   "id": "0431566f",
   "metadata": {},
   "outputs": [],
   "source": [
    "gdp_per_capita_year_country_mean = suic_rates.groupby([\"year\", \"country\"], as_index = False)[\"gdp_per_capita ($)\"].mean()\n",
    "\n",
    "plt.figure(figsize=(10,6))\n",
    "for country in gdp_per_capita_year_country_mean[\"country\"].unique():\n",
    "    gdp_per_capita_year_country_mean_class = gdp_per_capita_year_country_mean.loc[gdp_per_capita_year_country_mean[\"country\"] == country]\n",
    "    plt.plot(\n",
    "        gdp_per_capita_year_country_mean_class[\"year\"],\n",
    "        gdp_per_capita_year_country_mean_class[\"gdp_per_capita ($)\"],\n",
    "        marker='o',\n",
    "        label=country\n",
    "    )\n",
    "\n",
    "#for year in suic_numbers_age_mean_by_year[\"year\"]:\n",
    "#    plt.axvline(x=year, linestyle=\"dotted\", color=\"grey\")\n",
    "\n",
    "plt.title(\"GDP Per Capita for each country throughout the years\")\n",
    "plt.legend()"
   ]
  },
  {
   "cell_type": "markdown",
   "id": "e1ed2991",
   "metadata": {},
   "source": [
    "Clearly, this visualization does not help us a lot at looking at countries and years of interest. Let's turn it into an interactive visualization and add a filter per country."
   ]
  },
  {
   "cell_type": "markdown",
   "id": "1b24eb0c",
   "metadata": {},
   "source": [
    "# Building a Dashboard"
   ]
  },
  {
   "cell_type": "code",
   "execution_count": null,
   "id": "d46b6f70",
   "metadata": {},
   "outputs": [],
   "source": [
    "import numpy as np\n",
    "import pandas as pd\n",
    "import matplotlib as mplt\n",
    "import matplotlib.pyplot as plt\n",
    "\n",
    "# To make visualizations\n",
    "from matplotlib.figure import Figure\n",
    "from matplotlib import cm\n",
    "from matplotlib.backends.backend_agg import FigureCanvas\n",
    "\n",
    "\n",
    "import panel as pn\n",
    "from panel.template import DarkTheme\n",
    "from panel.interact import interact\n",
    "import hvplot.pandas  # Enable interactive https://hvplot.holoviz.org/getting_started/hvplot.html#basic-usage\n",
    "import param\n",
    "\n",
    "pn.extension()\n",
    "pd.options.plotting.backend = 'holoviews'"
   ]
  },
  {
   "cell_type": "markdown",
   "id": "9d2152eb",
   "metadata": {},
   "source": [
    "### Scatterplot Widget\n",
    "\n",
    "Allows us to create a scatterplot of any pair of columns. We can filter by country in order to zoom into particularities of the joint distributions "
   ]
  },
  {
   "cell_type": "code",
   "execution_count": null,
   "id": "cc821b8e",
   "metadata": {},
   "outputs": [],
   "source": [
    "def filterTableByCountry(data, selection):\n",
    "    data.loc[data['country'].isin(selection)]\n",
    "    return data.loc[data['country'].isin(selection)]\n",
    "\n",
    "def scatter(data, selection, x_selection, y_selection):\n",
    "    return filterTableByCountry(data, selection).hvplot(\n",
    "        x=x_selection, y=y_selection,\n",
    "        by='country',\n",
    "        kind='scatter',\n",
    "        hover_cols=['country', 'suicide_no', 'gdp_per_capita ($)', 'year'],\n",
    "        title='Relationship between Weight (kg) and Height (m), by Type',\n",
    "        width=700, height=500,\n",
    "        grid=True,\n",
    "    )\n",
    "\n",
    "def x_y_scatter(data):\n",
    "    x_scatter = pn.widgets.Select(name=\"X\", options=list(data.columns))\n",
    "    y_scatter = pn.widgets.Select(name=\"Y\", options=list(data.columns))\n",
    "    return x_scatter, y_scatter"
   ]
  },
  {
   "cell_type": "code",
   "execution_count": null,
   "id": "94b5ff05",
   "metadata": {},
   "outputs": [],
   "source": [
    "x_scatter, y_scatter = x_y_scatter(suic_rates)\n",
    "countries = list(suic_rates['country'].unique())[0:10]\n",
    "check_list = pn.widgets.CheckBoxGroup(name='Checkbox Group', value=countries, options=countries)\n",
    "scatter_data = pn.bind(scatter, suic_rates, check_list, x_scatter, y_scatter)"
   ]
  },
  {
   "cell_type": "markdown",
   "id": "f412d3a5",
   "metadata": {},
   "source": [
    "### Ranking Widget"
   ]
  },
  {
   "cell_type": "markdown",
   "id": "43387a2d",
   "metadata": {},
   "source": [
    "Shows us the top ten countries with highest suicide rate. The suicide rate is calculated as follows:\n",
    "1. For every country, sum the value of `suicides/100k pop` for all nominal classes, i.e., `sex`, `age`, for each year\n",
    "2. Take the mean value of that sum for each country"
   ]
  },
  {
   "cell_type": "code",
   "execution_count": null,
   "id": "79660764",
   "metadata": {},
   "outputs": [],
   "source": [
    "suic_numbers_country_mean_raw = suic_rates.groupby([\"country\", \"year\"], as_index = False)[\"suicides/100k pop\"].sum()\n",
    "suic_numbers_country_mean = suic_numbers_country_mean_raw.groupby([\"country\"], as_index = False)[\"suicides/100k pop\"].mean()\n",
    "suic_numbers_country_std = suic_numbers_country_mean_raw.groupby([\"country\"], as_index = False)[\"suicides/100k pop\"].std()\n",
    "suic_numbers_country_mean_ordered = suic_numbers_country_mean.sort_values(by=\"suicides/100k pop\", ascending=False)[:20]\n",
    "\n",
    "\n",
    "suic_numbers_country_mean_ordered[\"std\"] = suic_numbers_country_mean_ordered.apply(\n",
    "    lambda row: suic_numbers_country_std.loc[suic_numbers_country_std[\"country\"] == row[0]][\"suicides/100k pop\"].values[0],\n",
    "    axis=1\n",
    ")"
   ]
  },
  {
   "cell_type": "code",
   "execution_count": null,
   "id": "8b7b2bbb",
   "metadata": {},
   "outputs": [],
   "source": [
    "fig, ax = plt.subplots()\n",
    "\n",
    "norm = plt.Normalize(\n",
    "    suic_numbers_country_mean[\"suicides/100k pop\"].values.min(),\n",
    "    suic_numbers_country_mean[\"suicides/100k pop\"].values.max()\n",
    ")\n",
    "colors = plt.cm.Oranges(norm(suic_numbers_country_mean_ordered[\"suicides/100k pop\"]))\n",
    "# ax.barh(suic_numbers_country_mean_ordered[\"country\"], suic_numbers_country_mean_ordered[\"suicides/100k pop\"], yerr=suic_numbers_country_mean_ordered[\"std\"], color=colors)\n",
    "ax.barh(suic_numbers_country_mean_ordered[\"country\"], suic_numbers_country_mean_ordered[\"suicides/100k pop\"], color=colors)\n",
    "ax.set_title(\"Top 20 countries with highest suicide rates overall\")\n",
    "ax.invert_yaxis()"
   ]
  },
  {
   "cell_type": "markdown",
   "id": "11921377",
   "metadata": {},
   "source": [
    "### Gender Barplot Widget"
   ]
  },
  {
   "cell_type": "code",
   "execution_count": null,
   "id": "4c83a21a",
   "metadata": {},
   "outputs": [],
   "source": [
    "suic_numbers_gender_total = suic_rates.groupby([\"sex\"], as_index = False)[\"suicides_no\"].sum()\n",
    "suic_numbers_gender_total[\"sex\"] = suic_numbers_gender_total.apply(lambda row: row[0].capitalize(), axis=1)\n",
    "\n",
    "fix, ax = plt.subplots()\n",
    "ax.bar(suic_numbers_gender_total[\"sex\"], suic_numbers_gender_total[\"suicides_no\"], color=[\"blue\", \"orange\"])\n",
    "ax.get_yaxis().set_major_formatter(\n",
    "    mplt.ticker.FuncFormatter(lambda x, p: format(int(x), ',')))"
   ]
  },
  {
   "cell_type": "markdown",
   "id": "8289b963",
   "metadata": {},
   "source": [
    "### Age Rank Widget"
   ]
  },
  {
   "cell_type": "code",
   "execution_count": null,
   "id": "62dde5a5",
   "metadata": {},
   "outputs": [],
   "source": [
    "suic_numbers_age_mean = suic_rates.groupby([\"age\"], as_index = False)[\"suicides_no\"].mean()\n",
    "suic_numbers_age_mean = suic_numbers_age_mean.sort_values(by=\"suicides_no\", ascending=False)\n",
    "\n",
    "fig, ax = plt.subplots()\n",
    "\n",
    "norm = plt.Normalize(\n",
    "    suic_numbers_age_mean[\"suicides_no\"].values.min(),\n",
    "    suic_numbers_age_mean[\"suicides_no\"].values.max()\n",
    ")\n",
    "colors = plt.cm.Oranges(norm(suic_numbers_age_mean[\"suicides_no\"]))\n",
    "ax.barh(suic_numbers_age_mean[\"age\"], suic_numbers_age_mean[\"suicides_no\"], color=colors)\n",
    "ax.set_title(\"Age ranges with higher suicide numbers' mean across all years and countries\")\n",
    "ax.invert_yaxis()"
   ]
  },
  {
   "cell_type": "markdown",
   "id": "57ae6e6d",
   "metadata": {},
   "source": [
    "### GDP Per capita Line Plot Widget"
   ]
  },
  {
   "cell_type": "code",
   "execution_count": null,
   "id": "9fcdb17a",
   "metadata": {},
   "outputs": [],
   "source": [
    "countries = list(gdp_per_capita_year_country_mean[\"country\"].unique())\n",
    "countries_filter_widget = pn.widgets.Select(name='Country', options=countries)\n",
    "int_gdp_per_capita_year_country_mean = gdp_per_capita_year_country_mean.interactive()\n",
    "\n",
    "# Create interaction with data\n",
    "data_pipeline = (\n",
    "    int_gdp_per_capita_year_country_mean[\n",
    "        (int_gdp_per_capita_year_country_mean[\"country\"] == countries_filter_widget)\n",
    "    ]\n",
    ")"
   ]
  },
  {
   "cell_type": "code",
   "execution_count": null,
   "id": "bf5a48eb",
   "metadata": {},
   "outputs": [],
   "source": [
    "data_gdp = data_pipeline.iloc[:, -3:]\n",
    "data_gdp.hvplot(\n",
    "    kind='line',\n",
    "    x=\"year\",\n",
    "    y=\"gdp_per_capita ($)\",\n",
    "    title='GDP Per Capita throughout the years', \n",
    "    rot=45\n",
    ")"
   ]
  },
  {
   "cell_type": "markdown",
   "id": "90669474",
   "metadata": {},
   "source": [
    "### Generate Dashboard"
   ]
  },
  {
   "cell_type": "code",
   "execution_count": null,
   "id": "460aa75a",
   "metadata": {},
   "outputs": [],
   "source": [
    "# Template\n",
    "sidebar=[\n",
    "    pn.pane.Markdown('# Analysis of Suicide Rates across the world'),\n",
    "    pn.pane.Markdown('#### This project uses data available on [Kaggle](https://www.kaggle.com/datasets/russellyates88/suicide-rates-overview-1985-to-2016) about Suicide Rates for all countries throughout the years 1985 to 2016.'),\n",
    "    pn.pane.Markdown('## Filter by Country'),\n",
    "    check_list\n",
    "]\n",
    "\n",
    "main = [\n",
    "    pn.Row(scatter_data, pn.Column(x_scatter, y_scatter))\n",
    "]\n",
    "\n",
    "template = pn.template.FastListTemplate(\n",
    "    # theme=DarkTheme,\n",
    "    sidebar=sidebar,\n",
    "    main=main,\n",
    "    title = 'Suicide Rates Overview 1985 to 2016',\n",
    "    accent_base_color='#d78929',\n",
    "    header_background='#d78929',\n",
    "    sidebar_footer='<br><br><a href=\"https://github.com/lucasclopesr/suic-rates-tp\">GitHub Repository</a>',\n",
    "    main_max_width='100%'\n",
    ")\n",
    "\n",
    "template.servable()\n",
    "template.show()"
   ]
  }
 ],
 "metadata": {
  "kernelspec": {
   "display_name": "Python 3 (ipykernel)",
   "language": "python",
   "name": "python3"
  },
  "language_info": {
   "codemirror_mode": {
    "name": "ipython",
    "version": 3
   },
   "file_extension": ".py",
   "mimetype": "text/x-python",
   "name": "python",
   "nbconvert_exporter": "python",
   "pygments_lexer": "ipython3",
   "version": "3.10.4"
  }
 },
 "nbformat": 4,
 "nbformat_minor": 5
}
